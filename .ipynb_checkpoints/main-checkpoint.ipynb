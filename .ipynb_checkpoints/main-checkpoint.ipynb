{
 "cells": [
  {
   "cell_type": "code",
   "execution_count": 1,
   "id": "ec5eba45",
   "metadata": {},
   "outputs": [],
   "source": [
    "import pandas as pd\n",
    "import numpy as np\n",
    "import matplotlib.pyplot as plt\n",
    "import seaborn as sb\n",
    "from sklearn.metrics import confusion_matrix, accuracy_score\n",
    "from sklearn.model_selection import train_test_split\n",
    "from sklearn.model_selection import StratifiedKFold\n",
    "import pickle\n",
    "from sklearn.preprocessing import OrdinalEncoder, OneHotEncoder\n",
    "pd.options.mode.chained_assignment = None"
   ]
  },
  {
   "cell_type": "code",
   "execution_count": 2,
   "id": "ba242040",
   "metadata": {},
   "outputs": [
    {
     "data": {
      "text/html": [
       "<div>\n",
       "<style scoped>\n",
       "    .dataframe tbody tr th:only-of-type {\n",
       "        vertical-align: middle;\n",
       "    }\n",
       "\n",
       "    .dataframe tbody tr th {\n",
       "        vertical-align: top;\n",
       "    }\n",
       "\n",
       "    .dataframe thead th {\n",
       "        text-align: right;\n",
       "    }\n",
       "</style>\n",
       "<table border=\"1\" class=\"dataframe\">\n",
       "  <thead>\n",
       "    <tr style=\"text-align: right;\">\n",
       "      <th></th>\n",
       "      <th>age</th>\n",
       "      <th>job</th>\n",
       "      <th>marital</th>\n",
       "      <th>education</th>\n",
       "      <th>default</th>\n",
       "      <th>balance</th>\n",
       "      <th>housing</th>\n",
       "      <th>loan</th>\n",
       "      <th>contact</th>\n",
       "      <th>day</th>\n",
       "      <th>month</th>\n",
       "      <th>duration</th>\n",
       "      <th>campaign</th>\n",
       "      <th>y</th>\n",
       "    </tr>\n",
       "  </thead>\n",
       "  <tbody>\n",
       "    <tr>\n",
       "      <th>0</th>\n",
       "      <td>58</td>\n",
       "      <td>management</td>\n",
       "      <td>married</td>\n",
       "      <td>tertiary</td>\n",
       "      <td>no</td>\n",
       "      <td>2143</td>\n",
       "      <td>yes</td>\n",
       "      <td>no</td>\n",
       "      <td>unknown</td>\n",
       "      <td>5</td>\n",
       "      <td>may</td>\n",
       "      <td>261</td>\n",
       "      <td>1</td>\n",
       "      <td>no</td>\n",
       "    </tr>\n",
       "    <tr>\n",
       "      <th>1</th>\n",
       "      <td>44</td>\n",
       "      <td>technician</td>\n",
       "      <td>single</td>\n",
       "      <td>secondary</td>\n",
       "      <td>no</td>\n",
       "      <td>29</td>\n",
       "      <td>yes</td>\n",
       "      <td>no</td>\n",
       "      <td>unknown</td>\n",
       "      <td>5</td>\n",
       "      <td>may</td>\n",
       "      <td>151</td>\n",
       "      <td>1</td>\n",
       "      <td>no</td>\n",
       "    </tr>\n",
       "    <tr>\n",
       "      <th>2</th>\n",
       "      <td>33</td>\n",
       "      <td>entrepreneur</td>\n",
       "      <td>married</td>\n",
       "      <td>secondary</td>\n",
       "      <td>no</td>\n",
       "      <td>2</td>\n",
       "      <td>yes</td>\n",
       "      <td>yes</td>\n",
       "      <td>unknown</td>\n",
       "      <td>5</td>\n",
       "      <td>may</td>\n",
       "      <td>76</td>\n",
       "      <td>1</td>\n",
       "      <td>no</td>\n",
       "    </tr>\n",
       "    <tr>\n",
       "      <th>3</th>\n",
       "      <td>47</td>\n",
       "      <td>blue-collar</td>\n",
       "      <td>married</td>\n",
       "      <td>unknown</td>\n",
       "      <td>no</td>\n",
       "      <td>1506</td>\n",
       "      <td>yes</td>\n",
       "      <td>no</td>\n",
       "      <td>unknown</td>\n",
       "      <td>5</td>\n",
       "      <td>may</td>\n",
       "      <td>92</td>\n",
       "      <td>1</td>\n",
       "      <td>no</td>\n",
       "    </tr>\n",
       "    <tr>\n",
       "      <th>4</th>\n",
       "      <td>33</td>\n",
       "      <td>unknown</td>\n",
       "      <td>single</td>\n",
       "      <td>unknown</td>\n",
       "      <td>no</td>\n",
       "      <td>1</td>\n",
       "      <td>no</td>\n",
       "      <td>no</td>\n",
       "      <td>unknown</td>\n",
       "      <td>5</td>\n",
       "      <td>may</td>\n",
       "      <td>198</td>\n",
       "      <td>1</td>\n",
       "      <td>no</td>\n",
       "    </tr>\n",
       "  </tbody>\n",
       "</table>\n",
       "</div>"
      ],
      "text/plain": [
       "   age           job  marital  education default  balance housing loan  \\\n",
       "0   58    management  married   tertiary      no     2143     yes   no   \n",
       "1   44    technician   single  secondary      no       29     yes   no   \n",
       "2   33  entrepreneur  married  secondary      no        2     yes  yes   \n",
       "3   47   blue-collar  married    unknown      no     1506     yes   no   \n",
       "4   33       unknown   single    unknown      no        1      no   no   \n",
       "\n",
       "   contact  day month  duration  campaign   y  \n",
       "0  unknown    5   may       261         1  no  \n",
       "1  unknown    5   may       151         1  no  \n",
       "2  unknown    5   may        76         1  no  \n",
       "3  unknown    5   may        92         1  no  \n",
       "4  unknown    5   may       198         1  no  "
      ]
     },
     "execution_count": 2,
     "metadata": {},
     "output_type": "execute_result"
    }
   ],
   "source": [
    "data = pd.read_csv(\"data/term-deposit-marketing-2020.csv\")\n",
    "data.head()"
   ]
  },
  {
   "cell_type": "code",
   "execution_count": 3,
   "id": "c054137c",
   "metadata": {},
   "outputs": [],
   "source": [
    "##we have a large amount of data, enough to justify using 20 percent of the data as a test data set in addition to the testing\n",
    "##done during the k-cross validation \n",
    "train_data, test_data = train_test_split(data.to_numpy(), random_state=5, test_size=.2)\n",
    "test_data = pd.DataFrame(train_data, columns=['age', 'job', 'marital', 'education', 'default', 'balance', 'housing', 'loan', 'contact', 'day', 'month', 'duration', 'campaign', 'target'])\n",
    "train_data = pd.DataFrame(train_data, columns=['age', 'job', 'marital', 'education', 'default', 'balance', 'housing', 'loan', 'contact', 'day', 'month', 'duration', 'campaign', 'target'])\n",
    "train_y = train_data.copy().drop(columns=['age', 'job', 'marital', 'education', 'default', 'balance', 'housing', 'loan', 'contact', 'day', 'month', 'duration', 'campaign'], axis=1)\n",
    "train_x = train_data.copy().drop(columns=['target'], axis=1)\n",
    "test_x = test_data.copy().drop(columns=['target'], axis=1)\n",
    "test_y = test_data.copy().drop(columns=['age', 'job', 'marital', 'education', 'default', 'balance', 'housing', 'loan', 'contact', 'day', 'month', 'duration', 'campaign'], axis=1)"
   ]
  },
  {
   "cell_type": "code",
   "execution_count": 4,
   "id": "c288dcd5",
   "metadata": {},
   "outputs": [],
   "source": [
    "##y is the target. has the client subscribed to a term deposit?(binary)\n",
    "##default = has credit default(binary)\n",
    "##housing = has a housing loan(binary)\n",
    "##balance = average yearly balance(numeric)\n",
    "##day = day of the month in which the last contact was made(numeric)\n",
    "##loan = has a personal loan(binary)\n",
    "##contact = communication type(categorical)\n",
    "##month = month of the year in which the last contact was made(categorical(months))\n",
    "##duration = duration of the call(numeric)\n",
    "##campaign = number of contacts performed during this campaign and for this client (numeric, includes last contact)\n",
    "\n",
    "#much of the data is categorical and unranked(with the exception of education).\n",
    "#1. split the data into training and test data\n",
    "#2. perform analyses on the categorical data\n",
    "#   a. look into how many categories\n",
    "#   b. can categories be compressed?\n",
    "#   c. consider shuffling the data as it appears organized by date.\n",
    "#.  d. data appears to have an imbalance of targets. "
   ]
  },
  {
   "cell_type": "code",
   "execution_count": 5,
   "id": "d570cbfa",
   "metadata": {},
   "outputs": [],
   "source": [
    "##check categorical data, view the categories and look at the balance\n"
   ]
  },
  {
   "cell_type": "code",
   "execution_count": 6,
   "id": "956658f4",
   "metadata": {},
   "outputs": [
    {
     "data": {
      "text/plain": [
       "<matplotlib.axes._subplots.AxesSubplot at 0x7fcda5929f90>"
      ]
     },
     "execution_count": 6,
     "metadata": {},
     "output_type": "execute_result"
    },
    {
     "data": {
      "image/png": "[encoded data removed]",
      "text/plain": [
       "<Figure size 432x288 with 1 Axes>"
      ]
     },
     "metadata": {
      "needs_background": "light"
     },
     "output_type": "display_data"
    }
   ],
   "source": [
    "train_y['target'].value_counts().plot(kind=\"bar\")\n",
    "#data is imbalanced \n"
   ]
  },
  {
   "cell_type": "code",
   "execution_count": 7,
   "id": "c836b451",
   "metadata": {},
   "outputs": [
    {
     "data": {
      "text/plain": [
       "<matplotlib.axes._subplots.AxesSubplot at 0x7fcda58b63d0>"
      ]
     },
     "execution_count": 7,
     "metadata": {},
     "output_type": "execute_result"
    },
    {
     "data": {
      "image/png": "[encoded data removed]",
      "text/plain": [
       "<Figure size 432x288 with 1 Axes>"
      ]
     },
     "metadata": {
      "needs_background": "light"
     },
     "output_type": "display_data"
    }
   ],
   "source": [
    "bins=max(train_x['age'])\n",
    "train_x['age'].plot.hist(bins=bins)\n",
    "##the graph below shows the ages of the dataset, we can see the most common ages is 32, with a negative-skew"
   ]
  },
  {
   "cell_type": "code",
   "execution_count": 8,
   "id": "3fabf1fc",
   "metadata": {},
   "outputs": [],
   "source": [
    "##kfold = StratifiedKFold(n_splits=5, shuffle=True, random_state=1)\n",
    "##for train, test in kfold.split(X, Y):\n",
    "##    train_X, test_X = X[train], X[test]\n",
    "##    train_y, test_y = Y[train], Y[test]\n",
    "    "
   ]
  },
  {
   "cell_type": "code",
   "execution_count": 9,
   "id": "8a4470f1",
   "metadata": {},
   "outputs": [
    {
     "data": {
      "text/plain": [
       "<matplotlib.axes._subplots.AxesSubplot at 0x7fcda4c28b50>"
      ]
     },
     "execution_count": 9,
     "metadata": {},
     "output_type": "execute_result"
    },
    {
     "data": {
      "image/png": "[encoded data removed]",
      "text/plain": [
       "<Figure size 432x288 with 1 Axes>"
      ]
     },
     "metadata": {
      "needs_background": "light"
     },
     "output_type": "display_data"
    }
   ],
   "source": [
    "train_x['job'].value_counts().plot(kind='bar')\n",
    "##below shows the recorded jobs and their frequency. many of these categories can be compressed.\n",
    "##housemaid-> services\n",
    "##self-employed ->entrepreneur\n",
    "##student->unemployed\n",
    "##admin -> management\n",
    "##unknown data can be either dropped, predicted, or integrated into the most frequent category"
   ]
  },
  {
   "cell_type": "code",
   "execution_count": 10,
   "id": "0d635a25",
   "metadata": {},
   "outputs": [
    {
     "data": {
      "text/plain": [
       "<matplotlib.axes._subplots.AxesSubplot at 0x7fcda4d1e050>"
      ]
     },
     "execution_count": 10,
     "metadata": {},
     "output_type": "execute_result"
    },
    {
     "data": {
      "image/png": "[encoded data removed]",
      "text/plain": [
       "<Figure size 432x288 with 1 Axes>"
      ]
     },
     "metadata": {
      "needs_background": "light"
     },
     "output_type": "display_data"
    }
   ],
   "source": [
    "train_x['marital'].value_counts().plot(kind='bar')\n",
    "##the below graph shows the marriage rates of the data, single and divorced could potentially be combined into one category\n",
    "##apply a binary approach and created a new variable \"is_married\" which is binary. Can also apply weighted ordinal rankings"
   ]
  },
  {
   "cell_type": "code",
   "execution_count": 11,
   "id": "afae6aaf",
   "metadata": {},
   "outputs": [
    {
     "data": {
      "text/plain": [
       "<matplotlib.axes._subplots.AxesSubplot at 0x7fcda553be90>"
      ]
     },
     "execution_count": 11,
     "metadata": {},
     "output_type": "execute_result"
    },
    {
     "data": {
      "image/png": "[encoded data removed]",
      "text/plain": [
       "<Figure size 432x288 with 1 Axes>"
      ]
     },
     "metadata": {
      "needs_background": "light"
     },
     "output_type": "display_data"
    }
   ],
   "source": [
    "train_x['education'].value_counts().plot(kind='bar')\n",
    "##unknown data can be dropped or integrated into the categories. can apply ordinal encoding"
   ]
  },
  {
   "cell_type": "code",
   "execution_count": 12,
   "id": "cab13fbf",
   "metadata": {},
   "outputs": [
    {
     "data": {
      "text/plain": [
       "<matplotlib.axes._subplots.AxesSubplot at 0x7fcda5607950>"
      ]
     },
     "execution_count": 12,
     "metadata": {},
     "output_type": "execute_result"
    },
    {
     "data": {
      "image/png": "[encoded data removed]",
      "text/plain": [
       "<Figure size 432x288 with 1 Axes>"
      ]
     },
     "metadata": {
      "needs_background": "light"
     },
     "output_type": "display_data"
    }
   ],
   "source": [
    "train_x['default'].value_counts().plot(kind='bar')\n",
    "##below shows the binary data for if the client has a credit default"
   ]
  },
  {
   "cell_type": "code",
   "execution_count": 13,
   "id": "f332b028",
   "metadata": {},
   "outputs": [
    {
     "data": {
      "text/plain": [
       "<matplotlib.axes._subplots.AxesSubplot at 0x7fcda5668b50>"
      ]
     },
     "execution_count": 13,
     "metadata": {},
     "output_type": "execute_result"
    },
    {
     "data": {
      "image/png": "[encoded data removed]",
      "text/plain": [
       "<Figure size 432x288 with 1 Axes>"
      ]
     },
     "metadata": {
      "needs_background": "light"
     },
     "output_type": "display_data"
    }
   ],
   "source": [
    "bins = round((max(train_x['balance']) - min(train_x['balance']))/1000)\n",
    "train_x['balance'].plot.hist(bins=bins)\n",
    "##below shows the average balance of each observations account"
   ]
  },
  {
   "cell_type": "code",
   "execution_count": 14,
   "id": "477e5597",
   "metadata": {},
   "outputs": [
    {
     "data": {
      "text/plain": [
       "<matplotlib.axes._subplots.AxesSubplot at 0x7fcda62109d0>"
      ]
     },
     "execution_count": 14,
     "metadata": {},
     "output_type": "execute_result"
    },
    {
     "data": {
      "image/png": "[encoded data removed]",
      "text/plain": [
       "<Figure size 432x288 with 1 Axes>"
      ]
     },
     "metadata": {
      "needs_background": "light"
     },
     "output_type": "display_data"
    }
   ],
   "source": [
    "train_x['housing'].value_counts().plot(kind='bar')\n",
    "##below shows the binary data for if the client has a housing loan"
   ]
  },
  {
   "cell_type": "code",
   "execution_count": 15,
   "id": "71c8a8d6",
   "metadata": {},
   "outputs": [
    {
     "data": {
      "text/plain": [
       "<matplotlib.axes._subplots.AxesSubplot at 0x7fcda3f783d0>"
      ]
     },
     "execution_count": 15,
     "metadata": {},
     "output_type": "execute_result"
    },
    {
     "data": {
      "image/png": "[encoded data removed]",
      "text/plain": [
       "<Figure size 432x288 with 1 Axes>"
      ]
     },
     "metadata": {
      "needs_background": "light"
     },
     "output_type": "display_data"
    }
   ],
   "source": [
    "train_x['loan'].value_counts().plot(kind='bar')\n",
    "##below shows the amount of people that have a personal loan"
   ]
  },
  {
   "cell_type": "code",
   "execution_count": 16,
   "id": "a669c333",
   "metadata": {},
   "outputs": [
    {
     "data": {
      "text/plain": [
       "<matplotlib.axes._subplots.AxesSubplot at 0x7fcda3db8890>"
      ]
     },
     "execution_count": 16,
     "metadata": {},
     "output_type": "execute_result"
    },
    {
     "data": {
      "image/png": "[encoded data removed]",
      "text/plain": [
       "<Figure size 432x288 with 1 Axes>"
      ]
     },
     "metadata": {
      "needs_background": "light"
     },
     "output_type": "display_data"
    }
   ],
   "source": [
    "train_x['contact'].value_counts().plot(kind='bar')\n",
    "##below shows the data for the contact type\n",
    "##could eliminate or integrate unknown and make this a binary field"
   ]
  },
  {
   "cell_type": "code",
   "execution_count": 17,
   "id": "66b23513",
   "metadata": {},
   "outputs": [
    {
     "data": {
      "text/plain": [
       "<matplotlib.axes._subplots.AxesSubplot at 0x7fcda3e80ad0>"
      ]
     },
     "execution_count": 17,
     "metadata": {},
     "output_type": "execute_result"
    },
    {
     "data": {
      "image/png": "[encoded data removed]",
      "text/plain": [
       "<Figure size 432x288 with 1 Axes>"
      ]
     },
     "metadata": {
      "needs_background": "light"
     },
     "output_type": "display_data"
    }
   ],
   "source": [
    "bins = max(train_x['day'])\n",
    "train_x['day'].plot.hist(bins=bins)\n",
    "##below shows the days that users were contacted, this data can be interpreted for weekends, \n",
    "##start or end of the month(pay day)\n"
   ]
  },
  {
   "cell_type": "code",
   "execution_count": 18,
   "id": "29a96b5e",
   "metadata": {},
   "outputs": [
    {
     "data": {
      "text/plain": [
       "<matplotlib.axes._subplots.AxesSubplot at 0x7fcda6324550>"
      ]
     },
     "execution_count": 18,
     "metadata": {},
     "output_type": "execute_result"
    },
    {
     "data": {
      "image/png": "[encoded data removed]",
      "text/plain": [
       "<Figure size 432x288 with 1 Axes>"
      ]
     },
     "metadata": {
      "needs_background": "light"
     },
     "output_type": "display_data"
    }
   ],
   "source": [
    "train_x['month'].value_counts().plot(kind='bar')\n",
    "##below shows the month that an observation was contac"
   ]
  },
  {
   "cell_type": "code",
   "execution_count": 19,
   "id": "df3053f9",
   "metadata": {},
   "outputs": [
    {
     "data": {
      "text/plain": [
       "<matplotlib.axes._subplots.AxesSubplot at 0x7fcda640c910>"
      ]
     },
     "execution_count": 19,
     "metadata": {},
     "output_type": "execute_result"
    },
    {
     "data": {
      "image/png": "[encoded data removed]",
      "text/plain": [
       "<Figure size 432x288 with 1 Axes>"
      ]
     },
     "metadata": {
      "needs_background": "light"
     },
     "output_type": "display_data"
    }
   ],
   "source": [
    "bins = round(max(train_x['duration'])/60)\n",
    "train_x['duration'].plot.hist(bins=bins)\n",
    "##below shows the duration of the phone call, the vast majority of phone calls were under 10 minutes\n",
    "##peaking around the 2-3 minute mark"
   ]
  },
  {
   "cell_type": "code",
   "execution_count": 20,
   "id": "9a374295",
   "metadata": {},
   "outputs": [
    {
     "name": "stdout",
     "output_type": "stream",
     "text": [
      "63\n"
     ]
    },
    {
     "data": {
      "text/plain": [
       "<matplotlib.axes._subplots.AxesSubplot at 0x7fcda6692950>"
      ]
     },
     "execution_count": 20,
     "metadata": {},
     "output_type": "execute_result"
    },
    {
     "data": {
      "image/png": "[encoded data removed]",
      "text/plain": [
       "<Figure size 432x288 with 1 Axes>"
      ]
     },
     "metadata": {
      "needs_background": "light"
     },
     "output_type": "display_data"
    }
   ],
   "source": [
    "bins = round(max(train_x['campaign']))\n",
    "print(bins)\n",
    "train_x['campaign'].plot.hist(bins=bins)\n",
    "##below shows the amount of contacts that had been made to a client in a campaign"
   ]
  },
  {
   "cell_type": "code",
   "execution_count": 21,
   "id": "73ca6c96",
   "metadata": {},
   "outputs": [
    {
     "data": {
      "text/html": [
       "<div>\n",
       "<style scoped>\n",
       "    .dataframe tbody tr th:only-of-type {\n",
       "        vertical-align: middle;\n",
       "    }\n",
       "\n",
       "    .dataframe tbody tr th {\n",
       "        vertical-align: top;\n",
       "    }\n",
       "\n",
       "    .dataframe thead th {\n",
       "        text-align: right;\n",
       "    }\n",
       "</style>\n",
       "<table border=\"1\" class=\"dataframe\">\n",
       "  <thead>\n",
       "    <tr style=\"text-align: right;\">\n",
       "      <th></th>\n",
       "      <th>age</th>\n",
       "      <th>job</th>\n",
       "      <th>marital</th>\n",
       "      <th>education</th>\n",
       "      <th>default</th>\n",
       "      <th>balance</th>\n",
       "      <th>housing</th>\n",
       "      <th>loan</th>\n",
       "      <th>contact</th>\n",
       "      <th>day</th>\n",
       "      <th>month</th>\n",
       "      <th>duration</th>\n",
       "      <th>campaign</th>\n",
       "      <th>y</th>\n",
       "    </tr>\n",
       "  </thead>\n",
       "  <tbody>\n",
       "    <tr>\n",
       "      <th>0</th>\n",
       "      <td>58</td>\n",
       "      <td>management</td>\n",
       "      <td>married</td>\n",
       "      <td>tertiary</td>\n",
       "      <td>no</td>\n",
       "      <td>2143</td>\n",
       "      <td>yes</td>\n",
       "      <td>no</td>\n",
       "      <td>unknown</td>\n",
       "      <td>5</td>\n",
       "      <td>may</td>\n",
       "      <td>261</td>\n",
       "      <td>1</td>\n",
       "      <td>no</td>\n",
       "    </tr>\n",
       "    <tr>\n",
       "      <th>1</th>\n",
       "      <td>44</td>\n",
       "      <td>technician</td>\n",
       "      <td>single</td>\n",
       "      <td>secondary</td>\n",
       "      <td>no</td>\n",
       "      <td>29</td>\n",
       "      <td>yes</td>\n",
       "      <td>no</td>\n",
       "      <td>unknown</td>\n",
       "      <td>5</td>\n",
       "      <td>may</td>\n",
       "      <td>151</td>\n",
       "      <td>1</td>\n",
       "      <td>no</td>\n",
       "    </tr>\n",
       "    <tr>\n",
       "      <th>2</th>\n",
       "      <td>33</td>\n",
       "      <td>entrepreneur</td>\n",
       "      <td>married</td>\n",
       "      <td>secondary</td>\n",
       "      <td>no</td>\n",
       "      <td>2</td>\n",
       "      <td>yes</td>\n",
       "      <td>yes</td>\n",
       "      <td>unknown</td>\n",
       "      <td>5</td>\n",
       "      <td>may</td>\n",
       "      <td>76</td>\n",
       "      <td>1</td>\n",
       "      <td>no</td>\n",
       "    </tr>\n",
       "    <tr>\n",
       "      <th>3</th>\n",
       "      <td>47</td>\n",
       "      <td>blue-collar</td>\n",
       "      <td>married</td>\n",
       "      <td>unknown</td>\n",
       "      <td>no</td>\n",
       "      <td>1506</td>\n",
       "      <td>yes</td>\n",
       "      <td>no</td>\n",
       "      <td>unknown</td>\n",
       "      <td>5</td>\n",
       "      <td>may</td>\n",
       "      <td>92</td>\n",
       "      <td>1</td>\n",
       "      <td>no</td>\n",
       "    </tr>\n",
       "    <tr>\n",
       "      <th>4</th>\n",
       "      <td>33</td>\n",
       "      <td>unknown</td>\n",
       "      <td>single</td>\n",
       "      <td>unknown</td>\n",
       "      <td>no</td>\n",
       "      <td>1</td>\n",
       "      <td>no</td>\n",
       "      <td>no</td>\n",
       "      <td>unknown</td>\n",
       "      <td>5</td>\n",
       "      <td>may</td>\n",
       "      <td>198</td>\n",
       "      <td>1</td>\n",
       "      <td>no</td>\n",
       "    </tr>\n",
       "  </tbody>\n",
       "</table>\n",
       "</div>"
      ],
      "text/plain": [
       "   age           job  marital  education default  balance housing loan  \\\n",
       "0   58    management  married   tertiary      no     2143     yes   no   \n",
       "1   44    technician   single  secondary      no       29     yes   no   \n",
       "2   33  entrepreneur  married  secondary      no        2     yes  yes   \n",
       "3   47   blue-collar  married    unknown      no     1506     yes   no   \n",
       "4   33       unknown   single    unknown      no        1      no   no   \n",
       "\n",
       "   contact  day month  duration  campaign   y  \n",
       "0  unknown    5   may       261         1  no  \n",
       "1  unknown    5   may       151         1  no  \n",
       "2  unknown    5   may        76         1  no  \n",
       "3  unknown    5   may        92         1  no  \n",
       "4  unknown    5   may       198         1  no  "
      ]
     },
     "execution_count": 21,
     "metadata": {},
     "output_type": "execute_result"
    }
   ],
   "source": [
    "data.head()\n"
   ]
  },
  {
   "cell_type": "code",
   "execution_count": 22,
   "id": "4bb241a9",
   "metadata": {},
   "outputs": [],
   "source": [
    "##converts all of housing, default and loan features to a binary format to be interpreted by the model\n",
    "def convert_features_to_binary(input_df):\n",
    "    input_df.housing = input_df.housing.map(dict(yes=1, no=0))\n",
    "    input_df.default = input_df.default.map(dict(yes=1, no=0))\n",
    "    input_df.loan = input_df.loan.map(dict(yes=1, no=0))\n",
    "  \n",
    "\n",
    "##converts target variables to binary for training\n",
    "def convert_target_to_binary(input_df):\n",
    "    input_df.y = input_df.y.map(dict(yes=1, no=0))\n",
    "    \n",
    "##converts contact column into a binary format, creates a new column called is_cellular. \n",
    "##unknown variables were called cellular variables due to cellular being the mode category\n",
    "def convert_unknown_contact(input_df):\n",
    "    input_df['is_cellular'] = input_df.contact.map(dict(unknown=1, cellular=1, telephone=0))\n",
    "    input_df = input_df.drop(columns=['contact'], axis=1, inplace=True)\n",
    "\n",
    "    \n",
    "##converts marital status into a binary format. Divorced was called single as in the context of a loan, a divorced person\n",
    "##has a single income and many of the same financial features as a single person\n",
    "##a new column was created called is_married which is binary\n",
    "def convert_marital_status(input_df):\n",
    "    input_df['is_married'] = input_df.marital.map(dict(divorced=0, single=0, married=1))\n",
    "    input_df = input_df.drop(columns=['marital'], axis=1, inplace=True)\n",
    "\n",
    "##converts the education of an observation to an ordinal rank, 0 for primary, 1 for secondary, 2 for tertiary.\n",
    "def convert_education_ordinally(input_df):\n",
    "    input_df.education = input_df.education.map(dict(unknown='secondary', \n",
    "                                                     secondary='secondary', \n",
    "                                                     primary='primary', \n",
    "                                                     tertiary='tertiary'))\n",
    "    education = [['primary', 'secondary', 'tertiary']]\n",
    "    enc = OrdinalEncoder(categories=education)\n",
    "    enc.fit(input_df[['education']])\n",
    "    input_df['education'] = enc.transform(input_df[['education']])\n",
    "\n",
    "\n",
    "#encodes the jobs column using one hot encoding. Combines similiar jobs to reduce dimensionality\n",
    "def encode_job(input_df):\n",
    "    input_df['job'] = input_df['job'].replace({'blue-collar': 'blue_collar', 'self-employed': 'self_employed'})\n",
    "    input_df.job = input_df.job.map(dict(unknown='blue-collar', \n",
    "                                         student='unemployed', \n",
    "                                         housemaid='services',\n",
    "                                         unemployed='unemployed',\n",
    "                                         entrepreneur='self-employed',\n",
    "                                         self_employed='self-employed',\n",
    "                                         retired='retired',\n",
    "                                         services='services',\n",
    "                                         admin='admin',\n",
    "                                         technician='services',\n",
    "                                         management='management',\n",
    "                                         blue_collar='blue-collar'))\n",
    "    enc = OneHotEncoder(handle_unknown='ignore')\n",
    "    encoder_df = pd.DataFrame(enc.fit_transform(input_df[['job']]).toarray())\n",
    "    input_df.drop('job', axis=1, inplace=True)\n",
    "    input_df['is_admin'] = encoder_df[0]\n",
    "    input_df['is_bluecollar'] = encoder_df[1]\n",
    "    input_df['is_management'] = encoder_df[2]\n",
    "    input_df['is_self_employed'] = encoder_df[4]\n",
    "    input_df['is_services'] = encoder_df[5]\n",
    "    input_df['is_unemployed'] = encoder_df[6]\n",
    "\n",
    "    \n",
    "##pipeline function to clean all the data at once\n",
    "def clean_data(x_train_df, y_train_df):\n",
    "    convert_features_to_binary(x_train_df)\n",
    "    convert_target_to_binary(y_train_df)\n",
    "    convert_unknown_contact(x_train_df)\n",
    "    convert_marital_status(x_train_df)\n",
    "    convert_education_ordinally(x_train_df)\n",
    "    encode_job(x_train_df)\n",
    "    x_train_df.drop('month', axis=1, inplace=True)\n",
    "    \n",
    "\n"
   ]
  },
  {
   "cell_type": "code",
   "execution_count": 24,
   "id": "cf9ba4ce",
   "metadata": {},
   "outputs": [],
   "source": [
    "##data must be standardized, due to all data values being positive, \n",
    "##it would be best to standardize the values between 0 and 1 to avoid the introduction of negative numbers.\n",
    "TestData = data.copy()\n",
    "from sklearn.preprocessing import MinMaxScaler\n",
    "clean_data(TestData, TestData)\n",
    "scaler = MinMaxScaler()\n",
    "scaler.fit(TestData)\n",
    "scaledData = scaler.transform(TestData)\n"
   ]
  },
  {
   "cell_type": "code",
   "execution_count": 9,
   "id": "cb7d1383",
   "metadata": {},
   "outputs": [
    {
     "ename": "ModuleNotFoundError",
     "evalue": "No module named 'imblearn'",
     "output_type": "error",
     "traceback": [
      "\u001b[0;31m---------------------------------------------------------------------------\u001b[0m",
      "\u001b[0;31mModuleNotFoundError\u001b[0m                       Traceback (most recent call last)",
      "\u001b[0;32m<ipython-input-9-d0524665b8f2>\u001b[0m in \u001b[0;36m<module>\u001b[0;34m\u001b[0m\n\u001b[0;32m----> 1\u001b[0;31m \u001b[0;32mfrom\u001b[0m \u001b[0mimblearn\u001b[0m \u001b[0;32mimport\u001b[0m \u001b[0munder_sampling\u001b[0m\u001b[0;34m,\u001b[0m \u001b[0mover_sampling\u001b[0m\u001b[0;34m\u001b[0m\u001b[0;34m\u001b[0m\u001b[0m\n\u001b[0m",
      "\u001b[0;31mModuleNotFoundError\u001b[0m: No module named 'imblearn'"
     ]
    }
   ],
   "source": [
    "from imblearn import under_sampling, over_sampling"
   ]
  }
 ],
 "metadata": {
  "kernelspec": {
   "display_name": "Python 3",
   "language": "python",
   "name": "python3"
  },
  "language_info": {
   "codemirror_mode": {
    "name": "ipython",
    "version": 3
   },
   "file_extension": ".py",
   "mimetype": "text/x-python",
   "name": "python",
   "nbconvert_exporter": "python",
   "pygments_lexer": "ipython3",
   "version": "3.7.7"
  }
 },
 "nbformat": 4,
 "nbformat_minor": 5
}
