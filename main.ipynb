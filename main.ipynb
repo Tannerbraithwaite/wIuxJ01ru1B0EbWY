{
 "cells": [
  {
   "cell_type": "code",
   "execution_count": 1,
   "id": "772b545c",
   "metadata": {},
   "outputs": [
    {
     "data": {
      "text/plain": [
       "['/Library/Frameworks/Python.framework/Versions/3.10/lib/python3.10/site-packages']"
      ]
     },
     "execution_count": 1,
     "metadata": {},
     "output_type": "execute_result"
    }
   ],
   "source": [
    "import site\n",
    "site.getsitepackages()"
   ]
  },
  {
   "cell_type": "code",
   "execution_count": 2,
   "id": "ec5eba45",
   "metadata": {},
   "outputs": [],
   "source": [
    "import pandas as pd\n",
    "import numpy as np\n",
    "import matplotlib.pyplot as plt\n",
    "import seaborn as sb\n",
    "from sklearn.metrics import confusion_matrix, accuracy_score\n",
    "from sklearn.model_selection import train_test_split\n",
    "import pickle\n",
    "from sklearn.preprocessing import OrdinalEncoder, OneHotEncoder\n",
    "pd.options.mode.chained_assignment = None"
   ]
  },
  {
   "cell_type": "code",
   "execution_count": 3,
   "id": "ba242040",
   "metadata": {},
   "outputs": [
    {
     "data": {
      "text/html": [
       "<div>\n",
       "<style scoped>\n",
       "    .dataframe tbody tr th:only-of-type {\n",
       "        vertical-align: middle;\n",
       "    }\n",
       "\n",
       "    .dataframe tbody tr th {\n",
       "        vertical-align: top;\n",
       "    }\n",
       "\n",
       "    .dataframe thead th {\n",
       "        text-align: right;\n",
       "    }\n",
       "</style>\n",
       "<table border=\"1\" class=\"dataframe\">\n",
       "  <thead>\n",
       "    <tr style=\"text-align: right;\">\n",
       "      <th></th>\n",
       "      <th>age</th>\n",
       "      <th>job</th>\n",
       "      <th>marital</th>\n",
       "      <th>education</th>\n",
       "      <th>default</th>\n",
       "      <th>balance</th>\n",
       "      <th>housing</th>\n",
       "      <th>loan</th>\n",
       "      <th>contact</th>\n",
       "      <th>day</th>\n",
       "      <th>month</th>\n",
       "      <th>duration</th>\n",
       "      <th>campaign</th>\n",
       "      <th>y</th>\n",
       "    </tr>\n",
       "  </thead>\n",
       "  <tbody>\n",
       "    <tr>\n",
       "      <th>0</th>\n",
       "      <td>58</td>\n",
       "      <td>management</td>\n",
       "      <td>married</td>\n",
       "      <td>tertiary</td>\n",
       "      <td>no</td>\n",
       "      <td>2143</td>\n",
       "      <td>yes</td>\n",
       "      <td>no</td>\n",
       "      <td>unknown</td>\n",
       "      <td>5</td>\n",
       "      <td>may</td>\n",
       "      <td>261</td>\n",
       "      <td>1</td>\n",
       "      <td>no</td>\n",
       "    </tr>\n",
       "    <tr>\n",
       "      <th>1</th>\n",
       "      <td>44</td>\n",
       "      <td>technician</td>\n",
       "      <td>single</td>\n",
       "      <td>secondary</td>\n",
       "      <td>no</td>\n",
       "      <td>29</td>\n",
       "      <td>yes</td>\n",
       "      <td>no</td>\n",
       "      <td>unknown</td>\n",
       "      <td>5</td>\n",
       "      <td>may</td>\n",
       "      <td>151</td>\n",
       "      <td>1</td>\n",
       "      <td>no</td>\n",
       "    </tr>\n",
       "    <tr>\n",
       "      <th>2</th>\n",
       "      <td>33</td>\n",
       "      <td>entrepreneur</td>\n",
       "      <td>married</td>\n",
       "      <td>secondary</td>\n",
       "      <td>no</td>\n",
       "      <td>2</td>\n",
       "      <td>yes</td>\n",
       "      <td>yes</td>\n",
       "      <td>unknown</td>\n",
       "      <td>5</td>\n",
       "      <td>may</td>\n",
       "      <td>76</td>\n",
       "      <td>1</td>\n",
       "      <td>no</td>\n",
       "    </tr>\n",
       "    <tr>\n",
       "      <th>3</th>\n",
       "      <td>47</td>\n",
       "      <td>blue-collar</td>\n",
       "      <td>married</td>\n",
       "      <td>unknown</td>\n",
       "      <td>no</td>\n",
       "      <td>1506</td>\n",
       "      <td>yes</td>\n",
       "      <td>no</td>\n",
       "      <td>unknown</td>\n",
       "      <td>5</td>\n",
       "      <td>may</td>\n",
       "      <td>92</td>\n",
       "      <td>1</td>\n",
       "      <td>no</td>\n",
       "    </tr>\n",
       "    <tr>\n",
       "      <th>4</th>\n",
       "      <td>33</td>\n",
       "      <td>unknown</td>\n",
       "      <td>single</td>\n",
       "      <td>unknown</td>\n",
       "      <td>no</td>\n",
       "      <td>1</td>\n",
       "      <td>no</td>\n",
       "      <td>no</td>\n",
       "      <td>unknown</td>\n",
       "      <td>5</td>\n",
       "      <td>may</td>\n",
       "      <td>198</td>\n",
       "      <td>1</td>\n",
       "      <td>no</td>\n",
       "    </tr>\n",
       "  </tbody>\n",
       "</table>\n",
       "</div>"
      ],
      "text/plain": [
       "   age           job  marital  education default  balance housing loan  \\\n",
       "0   58    management  married   tertiary      no     2143     yes   no   \n",
       "1   44    technician   single  secondary      no       29     yes   no   \n",
       "2   33  entrepreneur  married  secondary      no        2     yes  yes   \n",
       "3   47   blue-collar  married    unknown      no     1506     yes   no   \n",
       "4   33       unknown   single    unknown      no        1      no   no   \n",
       "\n",
       "   contact  day month  duration  campaign   y  \n",
       "0  unknown    5   may       261         1  no  \n",
       "1  unknown    5   may       151         1  no  \n",
       "2  unknown    5   may        76         1  no  \n",
       "3  unknown    5   may        92         1  no  \n",
       "4  unknown    5   may       198         1  no  "
      ]
     },
     "execution_count": 3,
     "metadata": {},
     "output_type": "execute_result"
    }
   ],
   "source": [
    "data = pd.read_csv(\"data/term-deposit-marketing-2020.csv\")\n",
    "data.head()"
   ]
  },
  {
   "cell_type": "code",
   "execution_count": 4,
   "id": "c054137c",
   "metadata": {},
   "outputs": [],
   "source": [
    "##we have a large amount of data, enough to justify using 20 percent of the data as a test data set in addition to the testing\n",
    "##done during the k-cross validation \n",
    "train_data, test_data = train_test_split(data.to_numpy(), random_state=5, test_size=.2)\n",
    "test_data = pd.DataFrame(test_data, columns=['age', 'job', 'marital', 'education', 'default', 'balance', 'housing', 'loan', 'contact', 'day', 'month', 'duration', 'campaign', 'target'])\n",
    "train_data = pd.DataFrame(train_data, columns=['age', 'job', 'marital', 'education', 'default', 'balance', 'housing', 'loan', 'contact', 'day', 'month', 'duration', 'campaign', 'target'])\n",
    "train_y = train_data.copy().drop(columns=['age', 'job', 'marital', 'education', 'default', 'balance', 'housing', 'loan', 'contact', 'day', 'month', 'duration', 'campaign'], axis=1)\n",
    "train_x = train_data.copy().drop(columns=['target'], axis=1)\n",
    "test_x = test_data.copy().drop(columns=['target'], axis=1)\n",
    "test_y = test_data.copy().drop(columns=['age', 'job', 'marital', 'education', 'default', 'balance', 'housing', 'loan', 'contact', 'day', 'month', 'duration', 'campaign'], axis=1)"
   ]
  },
  {
   "cell_type": "code",
   "execution_count": 5,
   "id": "c288dcd5",
   "metadata": {},
   "outputs": [],
   "source": [
    "##y is the target. has the client subscribed to a term deposit?(binary)\n",
    "##default = has credit default(binary)\n",
    "##housing = has a housing loan(binary)\n",
    "##balance = average yearly balance(numeric)\n",
    "##day = day of the month in which the last contact was made(numeric)\n",
    "##loan = has a personal loan(binary)\n",
    "##contact = communication type(categorical)\n",
    "##month = month of the year in which the last contact was made(categorical(months))\n",
    "##duration = duration of the call(numeric)\n",
    "##campaign = number of contacts performed during this campaign and for this client (numeric, includes last contact)\n",
    "\n",
    "#much of the data is categorical and unranked(with the exception of education).\n",
    "#1. split the data into training and test data\n",
    "#2. perform analyses on the categorical data\n",
    "#   a. look into how many categories\n",
    "#   b. can categories be compressed?\n",
    "#   c. consider shuffling the data as it appears organized by date.\n",
    "#.  d. data appears to have an imbalance of targets. "
   ]
  },
  {
   "cell_type": "code",
   "execution_count": 6,
   "id": "d570cbfa",
   "metadata": {},
   "outputs": [],
   "source": [
    "##check categorical data, view the categories and look at the balance\n"
   ]
  },
  {
   "cell_type": "code",
   "execution_count": 7,
   "id": "956658f4",
   "metadata": {},
   "outputs": [
    {
     "data": {
      "text/plain": [
       "<AxesSubplot:>"
      ]
     },
     "execution_count": 7,
     "metadata": {},
     "output_type": "execute_result"
    },
    {
     "data": {
      "image/png": "[encoded data removed]",
      "text/plain": [
       "<Figure size 432x288 with 1 Axes>"
      ]
     },
     "metadata": {
      "needs_background": "light"
     },
     "output_type": "display_data"
    }
   ],
   "source": [
    "train_y['target'].value_counts().plot(kind=\"bar\")\n",
    "#data is imbalanced \n"
   ]
  },
  {
   "cell_type": "code",
   "execution_count": 8,
   "id": "c836b451",
   "metadata": {},
   "outputs": [
    {
     "data": {
      "text/plain": [
       "<AxesSubplot:ylabel='Frequency'>"
      ]
     },
     "execution_count": 8,
     "metadata": {},
     "output_type": "execute_result"
    },
    {
     "data": {
      "image/png": "[encoded data removed]",
      "text/plain": [
       "<Figure size 432x288 with 1 Axes>"
      ]
     },
     "metadata": {
      "needs_background": "light"
     },
     "output_type": "display_data"
    }
   ],
   "source": [
    "bins=max(train_x['age'])\n",
    "train_x['age'].plot.hist(bins=bins)\n",
    "##the graph below shows the ages of the dataset, we can see the most common ages is 32, with a negative-skew"
   ]
  },
  {
   "cell_type": "code",
   "execution_count": 9,
   "id": "8a4470f1",
   "metadata": {},
   "outputs": [
    {
     "data": {
      "text/plain": [
       "<AxesSubplot:>"
      ]
     },
     "execution_count": 9,
     "metadata": {},
     "output_type": "execute_result"
    },
    {
     "data": {
      "image/png": "[encoded data removed]",
      "text/plain": [
       "<Figure size 432x288 with 1 Axes>"
      ]
     },
     "metadata": {
      "needs_background": "light"
     },
     "output_type": "display_data"
    }
   ],
   "source": [
    "train_x['job'].value_counts().plot(kind='bar')\n",
    "##below shows the recorded jobs and their frequency. many of these categories can be compressed.\n",
    "##housemaid-> services\n",
    "##self-employed ->entrepreneur\n",
    "##student->unemployed\n",
    "##admin -> management\n",
    "##unknown data can be either dropped, predicted, or integrated into the most frequent category"
   ]
  },
  {
   "cell_type": "code",
   "execution_count": 10,
   "id": "0d635a25",
   "metadata": {},
   "outputs": [
    {
     "data": {
      "text/plain": [
       "<AxesSubplot:>"
      ]
     },
     "execution_count": 10,
     "metadata": {},
     "output_type": "execute_result"
    },
    {
     "data": {
      "image/png": "[encoded data removed]",
      "text/plain": [
       "<Figure size 432x288 with 1 Axes>"
      ]
     },
     "metadata": {
      "needs_background": "light"
     },
     "output_type": "display_data"
    }
   ],
   "source": [
    "train_x['marital'].value_counts().plot(kind='bar')\n",
    "##the below graph shows the marriage rates of the data, single and divorced could potentially be combined into one category\n",
    "##apply a binary approach and created a new variable \"is_married\" which is binary. Can also apply weighted ordinal rankings"
   ]
  },
  {
   "cell_type": "code",
   "execution_count": 11,
   "id": "afae6aaf",
   "metadata": {},
   "outputs": [
    {
     "data": {
      "text/plain": [
       "<AxesSubplot:>"
      ]
     },
     "execution_count": 11,
     "metadata": {},
     "output_type": "execute_result"
    },
    {
     "data": {
      "image/png": "[encoded data removed]",
      "text/plain": [
       "<Figure size 432x288 with 1 Axes>"
      ]
     },
     "metadata": {
      "needs_background": "light"
     },
     "output_type": "display_data"
    }
   ],
   "source": [
    "train_x['education'].value_counts().plot(kind='bar')\n",
    "##unknown data can be dropped or integrated into the categories. can apply ordinal encoding"
   ]
  },
  {
   "cell_type": "code",
   "execution_count": 12,
   "id": "cab13fbf",
   "metadata": {},
   "outputs": [
    {
     "data": {
      "text/plain": [
       "<AxesSubplot:>"
      ]
     },
     "execution_count": 12,
     "metadata": {},
     "output_type": "execute_result"
    },
    {
     "data": {
      "image/png": "[encoded data removed]",
      "text/plain": [
       "<Figure size 432x288 with 1 Axes>"
      ]
     },
     "metadata": {
      "needs_background": "light"
     },
     "output_type": "display_data"
    }
   ],
   "source": [
    "train_x['default'].value_counts().plot(kind='bar')\n",
    "##below shows the binary data for if the client has a credit default"
   ]
  },
  {
   "cell_type": "code",
   "execution_count": 13,
   "id": "f332b028",
   "metadata": {},
   "outputs": [
    {
     "data": {
      "text/plain": [
       "<AxesSubplot:ylabel='Frequency'>"
      ]
     },
     "execution_count": 13,
     "metadata": {},
     "output_type": "execute_result"
    },
    {
     "data": {
      "image/png": "[encoded data removed]",
      "text/plain": [
       "<Figure size 432x288 with 1 Axes>"
      ]
     },
     "metadata": {
      "needs_background": "light"
     },
     "output_type": "display_data"
    }
   ],
   "source": [
    "bins = round((max(train_x['balance']) - min(train_x['balance']))/1000)\n",
    "train_x['balance'].plot.hist(bins=bins)\n",
    "##below shows the average balance of each observations account"
   ]
  },
  {
   "cell_type": "code",
   "execution_count": 14,
   "id": "477e5597",
   "metadata": {
    "scrolled": true
   },
   "outputs": [
    {
     "data": {
      "text/plain": [
       "<AxesSubplot:>"
      ]
     },
     "execution_count": 14,
     "metadata": {},
     "output_type": "execute_result"
    },
    {
     "data": {
      "image/png": "[encoded data removed]",
      "text/plain": [
       "<Figure size 432x288 with 1 Axes>"
      ]
     },
     "metadata": {
      "needs_background": "light"
     },
     "output_type": "display_data"
    }
   ],
   "source": [
    "train_x['housing'].value_counts().plot(kind='bar')\n",
    "##below shows the binary data for if the client has a housing loan"
   ]
  },
  {
   "cell_type": "code",
   "execution_count": 15,
   "id": "71c8a8d6",
   "metadata": {},
   "outputs": [
    {
     "data": {
      "text/plain": [
       "<AxesSubplot:>"
      ]
     },
     "execution_count": 15,
     "metadata": {},
     "output_type": "execute_result"
    },
    {
     "data": {
      "image/png": "[encoded data removed]",
      "text/plain": [
       "<Figure size 432x288 with 1 Axes>"
      ]
     },
     "metadata": {
      "needs_background": "light"
     },
     "output_type": "display_data"
    }
   ],
   "source": [
    "train_x['loan'].value_counts().plot(kind='bar')\n",
    "##below shows the amount of people that have a personal loan"
   ]
  },
  {
   "cell_type": "code",
   "execution_count": 16,
   "id": "a669c333",
   "metadata": {},
   "outputs": [
    {
     "data": {
      "text/plain": [
       "<AxesSubplot:>"
      ]
     },
     "execution_count": 16,
     "metadata": {},
     "output_type": "execute_result"
    },
    {
     "data": {
      "image/png": "[encoded data removed]",
      "text/plain": [
       "<Figure size 432x288 with 1 Axes>"
      ]
     },
     "metadata": {
      "needs_background": "light"
     },
     "output_type": "display_data"
    }
   ],
   "source": [
    "train_x['contact'].value_counts().plot(kind='bar')\n",
    "##below shows the data for the contact type\n",
    "##could eliminate or integrate unknown and make this a binary field"
   ]
  },
  {
   "cell_type": "code",
   "execution_count": 17,
   "id": "66b23513",
   "metadata": {},
   "outputs": [
    {
     "data": {
      "text/plain": [
       "<AxesSubplot:ylabel='Frequency'>"
      ]
     },
     "execution_count": 17,
     "metadata": {},
     "output_type": "execute_result"
    },
    {
     "data": {
      "image/png": "[encoded data removed]",
      "text/plain": [
       "<Figure size 432x288 with 1 Axes>"
      ]
     },
     "metadata": {
      "needs_background": "light"
     },
     "output_type": "display_data"
    }
   ],
   "source": [
    "bins = max(train_x['day'])\n",
    "train_x['day'].plot.hist(bins=bins)\n",
    "##below shows the days that users were contacted, this data can be interpreted for weekends, \n",
    "##start or end of the month(pay day)\n"
   ]
  },
  {
   "cell_type": "code",
   "execution_count": 18,
   "id": "29a96b5e",
   "metadata": {},
   "outputs": [
    {
     "data": {
      "text/plain": [
       "<AxesSubplot:>"
      ]
     },
     "execution_count": 18,
     "metadata": {},
     "output_type": "execute_result"
    },
    {
     "data": {
      "image/png": "[encoded data removed]",
      "text/plain": [
       "<Figure size 432x288 with 1 Axes>"
      ]
     },
     "metadata": {
      "needs_background": "light"
     },
     "output_type": "display_data"
    }
   ],
   "source": [
    "train_x['month'].value_counts().plot(kind='bar')\n",
    "##below shows the month that an observation was contac"
   ]
  },
  {
   "cell_type": "code",
   "execution_count": 19,
   "id": "df3053f9",
   "metadata": {},
   "outputs": [
    {
     "data": {
      "text/plain": [
       "<AxesSubplot:ylabel='Frequency'>"
      ]
     },
     "execution_count": 19,
     "metadata": {},
     "output_type": "execute_result"
    },
    {
     "data": {
      "image/png": "[encoded data removed]",
      "text/plain": [
       "<Figure size 432x288 with 1 Axes>"
      ]
     },
     "metadata": {
      "needs_background": "light"
     },
     "output_type": "display_data"
    }
   ],
   "source": [
    "bins = round(max(train_x['duration'])/60)\n",
    "train_x['duration'].plot.hist(bins=bins)\n",
    "##below shows the duration of the phone call, the vast majority of phone calls were under 10 minutes\n",
    "##peaking around the 2-3 minute mark"
   ]
  },
  {
   "cell_type": "code",
   "execution_count": 20,
   "id": "9a374295",
   "metadata": {},
   "outputs": [
    {
     "name": "stdout",
     "output_type": "stream",
     "text": [
      "63\n"
     ]
    },
    {
     "data": {
      "text/plain": [
       "<AxesSubplot:ylabel='Frequency'>"
      ]
     },
     "execution_count": 20,
     "metadata": {},
     "output_type": "execute_result"
    },
    {
     "data": {
      "image/png": "[encoded data removed]",
      "text/plain": [
       "<Figure size 432x288 with 1 Axes>"
      ]
     },
     "metadata": {
      "needs_background": "light"
     },
     "output_type": "display_data"
    }
   ],
   "source": [
    "bins = round(max(train_x['campaign']))\n",
    "print(bins)\n",
    "train_x['campaign'].plot.hist(bins=bins)\n",
    "##below shows the amount of contacts that had been made to a client in a campaign"
   ]
  },
  {
   "cell_type": "code",
   "execution_count": 21,
   "id": "73ca6c96",
   "metadata": {},
   "outputs": [
    {
     "data": {
      "text/html": [
       "<div>\n",
       "<style scoped>\n",
       "    .dataframe tbody tr th:only-of-type {\n",
       "        vertical-align: middle;\n",
       "    }\n",
       "\n",
       "    .dataframe tbody tr th {\n",
       "        vertical-align: top;\n",
       "    }\n",
       "\n",
       "    .dataframe thead th {\n",
       "        text-align: right;\n",
       "    }\n",
       "</style>\n",
       "<table border=\"1\" class=\"dataframe\">\n",
       "  <thead>\n",
       "    <tr style=\"text-align: right;\">\n",
       "      <th></th>\n",
       "      <th>age</th>\n",
       "      <th>job</th>\n",
       "      <th>marital</th>\n",
       "      <th>education</th>\n",
       "      <th>default</th>\n",
       "      <th>balance</th>\n",
       "      <th>housing</th>\n",
       "      <th>loan</th>\n",
       "      <th>contact</th>\n",
       "      <th>day</th>\n",
       "      <th>month</th>\n",
       "      <th>duration</th>\n",
       "      <th>campaign</th>\n",
       "      <th>y</th>\n",
       "    </tr>\n",
       "  </thead>\n",
       "  <tbody>\n",
       "    <tr>\n",
       "      <th>0</th>\n",
       "      <td>58</td>\n",
       "      <td>management</td>\n",
       "      <td>married</td>\n",
       "      <td>tertiary</td>\n",
       "      <td>no</td>\n",
       "      <td>2143</td>\n",
       "      <td>yes</td>\n",
       "      <td>no</td>\n",
       "      <td>unknown</td>\n",
       "      <td>5</td>\n",
       "      <td>may</td>\n",
       "      <td>261</td>\n",
       "      <td>1</td>\n",
       "      <td>no</td>\n",
       "    </tr>\n",
       "    <tr>\n",
       "      <th>1</th>\n",
       "      <td>44</td>\n",
       "      <td>technician</td>\n",
       "      <td>single</td>\n",
       "      <td>secondary</td>\n",
       "      <td>no</td>\n",
       "      <td>29</td>\n",
       "      <td>yes</td>\n",
       "      <td>no</td>\n",
       "      <td>unknown</td>\n",
       "      <td>5</td>\n",
       "      <td>may</td>\n",
       "      <td>151</td>\n",
       "      <td>1</td>\n",
       "      <td>no</td>\n",
       "    </tr>\n",
       "    <tr>\n",
       "      <th>2</th>\n",
       "      <td>33</td>\n",
       "      <td>entrepreneur</td>\n",
       "      <td>married</td>\n",
       "      <td>secondary</td>\n",
       "      <td>no</td>\n",
       "      <td>2</td>\n",
       "      <td>yes</td>\n",
       "      <td>yes</td>\n",
       "      <td>unknown</td>\n",
       "      <td>5</td>\n",
       "      <td>may</td>\n",
       "      <td>76</td>\n",
       "      <td>1</td>\n",
       "      <td>no</td>\n",
       "    </tr>\n",
       "    <tr>\n",
       "      <th>3</th>\n",
       "      <td>47</td>\n",
       "      <td>blue-collar</td>\n",
       "      <td>married</td>\n",
       "      <td>unknown</td>\n",
       "      <td>no</td>\n",
       "      <td>1506</td>\n",
       "      <td>yes</td>\n",
       "      <td>no</td>\n",
       "      <td>unknown</td>\n",
       "      <td>5</td>\n",
       "      <td>may</td>\n",
       "      <td>92</td>\n",
       "      <td>1</td>\n",
       "      <td>no</td>\n",
       "    </tr>\n",
       "    <tr>\n",
       "      <th>4</th>\n",
       "      <td>33</td>\n",
       "      <td>unknown</td>\n",
       "      <td>single</td>\n",
       "      <td>unknown</td>\n",
       "      <td>no</td>\n",
       "      <td>1</td>\n",
       "      <td>no</td>\n",
       "      <td>no</td>\n",
       "      <td>unknown</td>\n",
       "      <td>5</td>\n",
       "      <td>may</td>\n",
       "      <td>198</td>\n",
       "      <td>1</td>\n",
       "      <td>no</td>\n",
       "    </tr>\n",
       "  </tbody>\n",
       "</table>\n",
       "</div>"
      ],
      "text/plain": [
       "   age           job  marital  education default  balance housing loan  \\\n",
       "0   58    management  married   tertiary      no     2143     yes   no   \n",
       "1   44    technician   single  secondary      no       29     yes   no   \n",
       "2   33  entrepreneur  married  secondary      no        2     yes  yes   \n",
       "3   47   blue-collar  married    unknown      no     1506     yes   no   \n",
       "4   33       unknown   single    unknown      no        1      no   no   \n",
       "\n",
       "   contact  day month  duration  campaign   y  \n",
       "0  unknown    5   may       261         1  no  \n",
       "1  unknown    5   may       151         1  no  \n",
       "2  unknown    5   may        76         1  no  \n",
       "3  unknown    5   may        92         1  no  \n",
       "4  unknown    5   may       198         1  no  "
      ]
     },
     "execution_count": 21,
     "metadata": {},
     "output_type": "execute_result"
    }
   ],
   "source": [
    "data.head()\n"
   ]
  },
  {
   "cell_type": "code",
   "execution_count": 22,
   "id": "4bb241a9",
   "metadata": {},
   "outputs": [],
   "source": [
    "##converts all of housing, default and loan features to a binary format to be interpreted by the model\n",
    "def convert_features_to_binary(input_df):\n",
    "    input_df.housing = input_df.housing.map(dict(yes=1, no=0))\n",
    "    input_df.default = input_df.default.map(dict(yes=1, no=0))\n",
    "    input_df.loan = input_df.loan.map(dict(yes=1, no=0))\n",
    "  \n",
    "\n",
    "##converts target variables to binary for training\n",
    "def convert_target_to_binary(input_df):\n",
    "    input_df.target = input_df.target.map(dict(yes=1, no=0))\n",
    "    \n",
    "##converts contact column into a binary format, creates a new column called is_cellular. \n",
    "##unknown variables were called cellular variables due to cellular being the mode category\n",
    "def convert_unknown_contact(input_df):\n",
    "    input_df['is_cellular'] = input_df.contact.map(dict(unknown=1, cellular=1, telephone=0))\n",
    "    input_df = input_df.drop(columns=['contact'], axis=1, inplace=True)\n",
    "\n",
    "    \n",
    "##converts marital status into a binary format. Divorced was called single as in the context of a loan, a divorced person\n",
    "##has a single income and many of the same financial features as a single person\n",
    "##a new column was created called is_married which is binary\n",
    "def convert_marital_status(input_df):\n",
    "    input_df['is_married'] = input_df.marital.map(dict(divorced=0, single=0, married=1))\n",
    "    input_df = input_df.drop(columns=['marital'], axis=1, inplace=True)\n",
    "\n",
    "##converts the education of an observation to an ordinal rank, 0 for primary, 1 for secondary, 2 for tertiary.\n",
    "def convert_education_ordinally(input_df):\n",
    "    input_df.education = input_df.education.map(dict(unknown='secondary', \n",
    "                                                     secondary='secondary', \n",
    "                                                     primary='primary', \n",
    "                                                     tertiary='tertiary'))\n",
    "    education = [['primary', 'secondary', 'tertiary']]\n",
    "    enc = OrdinalEncoder(categories=education)\n",
    "    enc.fit(input_df[['education']])\n",
    "    input_df['education'] = enc.transform(input_df[['education']])\n",
    "\n",
    "\n",
    "#encodes the jobs column using one hot encoding. Combines similiar jobs to reduce dimensionality\n",
    "def encode_job(input_df):\n",
    "    input_df['job'] = input_df['job'].replace({'blue-collar': 'blue_collar', 'self-employed': 'self_employed'})\n",
    "    input_df.job = input_df.job.map(dict(unknown='blue-collar', \n",
    "                                         student='unemployed', \n",
    "                                         housemaid='services',\n",
    "                                         unemployed='unemployed',\n",
    "                                         entrepreneur='self-employed',\n",
    "                                         self_employed='self-employed',\n",
    "                                         retired='retired',\n",
    "                                         services='services',\n",
    "                                         admin='admin',\n",
    "                                         technician='services',\n",
    "                                         management='management',\n",
    "                                         blue_collar='blue-collar'))\n",
    "    enc = OneHotEncoder(handle_unknown='ignore')\n",
    "    encoder_df = pd.DataFrame(enc.fit_transform(input_df[['job']]).toarray())\n",
    "    input_df.drop('job', axis=1, inplace=True)\n",
    "    input_df['is_admin'] = encoder_df[0]\n",
    "    input_df['is_bluecollar'] = encoder_df[1]\n",
    "    input_df['is_management'] = encoder_df[2]\n",
    "    input_df['is_self_employed'] = encoder_df[4]\n",
    "    input_df['is_services'] = encoder_df[5]\n",
    "    input_df['is_unemployed'] = encoder_df[6]\n",
    "\n",
    "    \n",
    "##pipeline function to clean all the data at once\n",
    "def clean_data(x_train_df, y_train_df):\n",
    "    convert_features_to_binary(x_train_df)\n",
    "    convert_target_to_binary(y_train_df)\n",
    "    convert_unknown_contact(x_train_df)\n",
    "    convert_marital_status(x_train_df)\n",
    "    convert_education_ordinally(x_train_df)\n",
    "    encode_job(x_train_df)\n",
    "    x_train_df.drop('month', axis=1, inplace=True)\n",
    "    \n",
    "\n"
   ]
  },
  {
   "cell_type": "code",
   "execution_count": 23,
   "id": "cf9ba4ce",
   "metadata": {},
   "outputs": [],
   "source": [
    "##data must be standardized, due to all data values being positive, \n",
    "##it would be best to standardize the values between 0 and 1 to avoid the introduction of negative numbers.\n",
    "#TestData = data.copy()\n",
    "from sklearn.preprocessing import MinMaxScaler\n",
    "#clean_data(TestData, TestData)\n",
    "#scaler = MinMaxScaler()\n",
    "#scaler.fit(TestData)\n",
    "#scaledData = scaler.transform(TestData)\n"
   ]
  },
  {
   "cell_type": "code",
   "execution_count": 24,
   "id": "cb7d1383",
   "metadata": {},
   "outputs": [],
   "source": [
    "from imblearn.under_sampling import RandomUnderSampler\n",
    "from sklearn.preprocessing import MinMaxScaler\n",
    "from sklearn.ensemble import BaggingClassifier\n",
    "##from sklearn.ensemble import RandomForestClassifier\n",
    "from sklearn.linear_model import LogisticRegression\n",
    "from sklearn.svm import SVC\n",
    "from sklearn.naive_bayes import GaussianNB\n",
    "from sklearn import tree\n",
    "from sklearn.model_selection import StratifiedKFold\n",
    "from imblearn.over_sampling import RandomOverSampler\n",
    "from sklearn.ensemble import AdaBoostClassifier"
   ]
  },
  {
   "cell_type": "code",
   "execution_count": 25,
   "id": "5ce6613f",
   "metadata": {},
   "outputs": [],
   "source": [
    "#undersample = RandomUnderSampler(sampling_strategy='majority')\n",
    "#TestData = data.copy()\n",
    "#y_train = TestData[['y']]\n",
    "#x_train = TestData.drop('y', axis=1)\n",
    "#clean_data(x_train, y_train)\n",
    "#X, y = undersample.fit_resample(x_train, y_train)\n",
    "#y['y'].value_counts().plot(kind=\"bar\")\n"
   ]
  },
  {
   "cell_type": "code",
   "execution_count": 26,
   "id": "43ec67e4",
   "metadata": {},
   "outputs": [
    {
     "name": "stdout",
     "output_type": "stream",
     "text": [
      "0.92421875\n",
      "0.92578125\n",
      "0.915625\n",
      "0.92171875\n",
      "0.91859375\n"
     ]
    }
   ],
   "source": [
    "k_fold = StratifiedKFold(n_splits=5, shuffle=True)\n",
    "averages_list = []\n",
    "for train_index, test_index in k_fold.split(train_x, train_y):\n",
    "    x_train_fold, x_test_fold = train_x.loc[train_index,:], train_x.loc[test_index,:]\n",
    "    y_train_fold, y_test_fold = train_y.loc[train_index,:], train_y.loc[test_index,:]\n",
    "    \n",
    "    x_train_fold = x_train_fold.reset_index().drop(columns=['index'], axis=1)\n",
    "    y_train_fold = y_train_fold.reset_index().drop(columns=['index'], axis=1)\n",
    "    x_test_fold = x_test_fold.reset_index().drop(columns=['index'], axis=1)\n",
    "    y_test_fold = y_test_fold.reset_index().drop(columns=['index'], axis=1)\n",
    "    \n",
    "    clean_data(x_train_fold, y_train_fold)\n",
    "    clean_data(x_test_fold, y_test_fold)\n",
    "\n",
    "    scaler = MinMaxScaler()\n",
    "    scaler.fit(x_train_fold)\n",
    "    scaled_x_train_data = scaler.transform(x_train_fold)\n",
    "    scaled_x_test_data = scaler.transform(x_test_fold)\n",
    "    \n",
    "    Oversample = RandomOverSampler(random_state=42)\n",
    "    X, y = Oversample.fit_resample(scaled_x_train_data, y_train_fold.to_numpy())\n",
    "    model = BaggingClassifier(tree.DecisionTreeClassifier())\n",
    "    model.fit(X,y.ravel())\n",
    "    averages_list.append(model.score(scaled_x_test_data, y_test_fold))\n",
    "    \n",
    "    print(model.score(scaled_x_test_data, y_test_fold))"
   ]
  },
  {
   "cell_type": "code",
   "execution_count": 27,
   "id": "a3b4230e",
   "metadata": {},
   "outputs": [
    {
     "data": {
      "text/plain": [
       "0.9211875"
      ]
     },
     "execution_count": 27,
     "metadata": {},
     "output_type": "execute_result"
    }
   ],
   "source": [
    "##accuracy of this model is the average of the accuracies of the K-fold scores\n",
    "##92% accuracy\n",
    "accuracy = sum(averages_list)/len(averages_list)\n",
    "accuracy"
   ]
  },
  {
   "cell_type": "code",
   "execution_count": 28,
   "id": "c0889172",
   "metadata": {},
   "outputs": [],
   "source": [
    "clean_data(test_x, test_y)\n",
    "scaled_x_test_data = scaler.transform(test_x)\n"
   ]
  },
  {
   "cell_type": "code",
   "execution_count": 29,
   "id": "8b522517",
   "metadata": {},
   "outputs": [],
   "source": [
    "test_x\n",
    "df = pd.DataFrame(scaled_x_test_data, columns=['age', 'education', 'default', 'balance', 'housing', 'loan', 'day', 'duration', 'campaign', 'is_cellular', 'is_married', 'is_admin', 'is_bluecollar', 'is_management', 'is_self_employed', 'is_services', 'is_unemployed'])"
   ]
  },
  {
   "cell_type": "code",
   "execution_count": 30,
   "id": "5228d57d",
   "metadata": {},
   "outputs": [
    {
     "data": {
      "text/html": [
       "<div>\n",
       "<style scoped>\n",
       "    .dataframe tbody tr th:only-of-type {\n",
       "        vertical-align: middle;\n",
       "    }\n",
       "\n",
       "    .dataframe tbody tr th {\n",
       "        vertical-align: top;\n",
       "    }\n",
       "\n",
       "    .dataframe thead th {\n",
       "        text-align: right;\n",
       "    }\n",
       "</style>\n",
       "<table border=\"1\" class=\"dataframe\">\n",
       "  <thead>\n",
       "    <tr style=\"text-align: right;\">\n",
       "      <th></th>\n",
       "      <th>age</th>\n",
       "      <th>education</th>\n",
       "      <th>default</th>\n",
       "      <th>balance</th>\n",
       "      <th>housing</th>\n",
       "      <th>loan</th>\n",
       "      <th>day</th>\n",
       "      <th>duration</th>\n",
       "      <th>campaign</th>\n",
       "      <th>is_cellular</th>\n",
       "      <th>is_married</th>\n",
       "      <th>is_admin</th>\n",
       "      <th>is_bluecollar</th>\n",
       "      <th>is_management</th>\n",
       "      <th>is_self_employed</th>\n",
       "      <th>is_services</th>\n",
       "      <th>is_unemployed</th>\n",
       "      <th>target</th>\n",
       "    </tr>\n",
       "  </thead>\n",
       "  <tbody>\n",
       "    <tr>\n",
       "      <th>0</th>\n",
       "      <td>0.315789</td>\n",
       "      <td>1.0</td>\n",
       "      <td>0.0</td>\n",
       "      <td>0.072876</td>\n",
       "      <td>0.0</td>\n",
       "      <td>0.0</td>\n",
       "      <td>0.333333</td>\n",
       "      <td>0.018918</td>\n",
       "      <td>0.052632</td>\n",
       "      <td>1.0</td>\n",
       "      <td>1.0</td>\n",
       "      <td>0.0</td>\n",
       "      <td>0.0</td>\n",
       "      <td>1.0</td>\n",
       "      <td>0.0</td>\n",
       "      <td>0.0</td>\n",
       "      <td>0.0</td>\n",
       "      <td>0</td>\n",
       "    </tr>\n",
       "    <tr>\n",
       "      <th>1</th>\n",
       "      <td>0.210526</td>\n",
       "      <td>1.0</td>\n",
       "      <td>0.0</td>\n",
       "      <td>0.078550</td>\n",
       "      <td>1.0</td>\n",
       "      <td>1.0</td>\n",
       "      <td>0.033333</td>\n",
       "      <td>0.015053</td>\n",
       "      <td>0.035088</td>\n",
       "      <td>1.0</td>\n",
       "      <td>1.0</td>\n",
       "      <td>0.0</td>\n",
       "      <td>0.0</td>\n",
       "      <td>0.0</td>\n",
       "      <td>0.0</td>\n",
       "      <td>1.0</td>\n",
       "      <td>0.0</td>\n",
       "      <td>0</td>\n",
       "    </tr>\n",
       "    <tr>\n",
       "      <th>2</th>\n",
       "      <td>0.131579</td>\n",
       "      <td>0.5</td>\n",
       "      <td>0.0</td>\n",
       "      <td>0.072803</td>\n",
       "      <td>1.0</td>\n",
       "      <td>0.0</td>\n",
       "      <td>0.700000</td>\n",
       "      <td>0.081570</td>\n",
       "      <td>0.105263</td>\n",
       "      <td>1.0</td>\n",
       "      <td>0.0</td>\n",
       "      <td>0.0</td>\n",
       "      <td>0.0</td>\n",
       "      <td>1.0</td>\n",
       "      <td>0.0</td>\n",
       "      <td>0.0</td>\n",
       "      <td>0.0</td>\n",
       "      <td>0</td>\n",
       "    </tr>\n",
       "    <tr>\n",
       "      <th>3</th>\n",
       "      <td>0.171053</td>\n",
       "      <td>0.5</td>\n",
       "      <td>0.0</td>\n",
       "      <td>0.073684</td>\n",
       "      <td>1.0</td>\n",
       "      <td>0.0</td>\n",
       "      <td>0.566667</td>\n",
       "      <td>0.033157</td>\n",
       "      <td>0.017544</td>\n",
       "      <td>1.0</td>\n",
       "      <td>1.0</td>\n",
       "      <td>1.0</td>\n",
       "      <td>0.0</td>\n",
       "      <td>0.0</td>\n",
       "      <td>0.0</td>\n",
       "      <td>0.0</td>\n",
       "      <td>0.0</td>\n",
       "      <td>0</td>\n",
       "    </tr>\n",
       "    <tr>\n",
       "      <th>4</th>\n",
       "      <td>0.236842</td>\n",
       "      <td>0.5</td>\n",
       "      <td>0.0</td>\n",
       "      <td>0.074755</td>\n",
       "      <td>1.0</td>\n",
       "      <td>0.0</td>\n",
       "      <td>0.166667</td>\n",
       "      <td>0.012002</td>\n",
       "      <td>0.000000</td>\n",
       "      <td>1.0</td>\n",
       "      <td>1.0</td>\n",
       "      <td>0.0</td>\n",
       "      <td>0.0</td>\n",
       "      <td>0.0</td>\n",
       "      <td>1.0</td>\n",
       "      <td>0.0</td>\n",
       "      <td>0.0</td>\n",
       "      <td>0</td>\n",
       "    </tr>\n",
       "    <tr>\n",
       "      <th>...</th>\n",
       "      <td>...</td>\n",
       "      <td>...</td>\n",
       "      <td>...</td>\n",
       "      <td>...</td>\n",
       "      <td>...</td>\n",
       "      <td>...</td>\n",
       "      <td>...</td>\n",
       "      <td>...</td>\n",
       "      <td>...</td>\n",
       "      <td>...</td>\n",
       "      <td>...</td>\n",
       "      <td>...</td>\n",
       "      <td>...</td>\n",
       "      <td>...</td>\n",
       "      <td>...</td>\n",
       "      <td>...</td>\n",
       "      <td>...</td>\n",
       "      <td>...</td>\n",
       "    </tr>\n",
       "    <tr>\n",
       "      <th>7995</th>\n",
       "      <td>0.184211</td>\n",
       "      <td>1.0</td>\n",
       "      <td>0.0</td>\n",
       "      <td>0.075300</td>\n",
       "      <td>0.0</td>\n",
       "      <td>0.0</td>\n",
       "      <td>0.566667</td>\n",
       "      <td>0.070382</td>\n",
       "      <td>0.000000</td>\n",
       "      <td>1.0</td>\n",
       "      <td>0.0</td>\n",
       "      <td>0.0</td>\n",
       "      <td>0.0</td>\n",
       "      <td>1.0</td>\n",
       "      <td>0.0</td>\n",
       "      <td>0.0</td>\n",
       "      <td>0.0</td>\n",
       "      <td>0</td>\n",
       "    </tr>\n",
       "    <tr>\n",
       "      <th>7996</th>\n",
       "      <td>0.210526</td>\n",
       "      <td>0.5</td>\n",
       "      <td>0.0</td>\n",
       "      <td>0.073947</td>\n",
       "      <td>0.0</td>\n",
       "      <td>0.0</td>\n",
       "      <td>0.700000</td>\n",
       "      <td>0.022376</td>\n",
       "      <td>0.017544</td>\n",
       "      <td>1.0</td>\n",
       "      <td>0.0</td>\n",
       "      <td>0.0</td>\n",
       "      <td>0.0</td>\n",
       "      <td>0.0</td>\n",
       "      <td>0.0</td>\n",
       "      <td>1.0</td>\n",
       "      <td>0.0</td>\n",
       "      <td>0</td>\n",
       "    </tr>\n",
       "    <tr>\n",
       "      <th>7997</th>\n",
       "      <td>0.223684</td>\n",
       "      <td>1.0</td>\n",
       "      <td>0.0</td>\n",
       "      <td>0.076471</td>\n",
       "      <td>0.0</td>\n",
       "      <td>0.0</td>\n",
       "      <td>0.533333</td>\n",
       "      <td>0.012408</td>\n",
       "      <td>0.017544</td>\n",
       "      <td>1.0</td>\n",
       "      <td>1.0</td>\n",
       "      <td>0.0</td>\n",
       "      <td>0.0</td>\n",
       "      <td>0.0</td>\n",
       "      <td>0.0</td>\n",
       "      <td>1.0</td>\n",
       "      <td>0.0</td>\n",
       "      <td>0</td>\n",
       "    </tr>\n",
       "    <tr>\n",
       "      <th>7998</th>\n",
       "      <td>0.144737</td>\n",
       "      <td>0.5</td>\n",
       "      <td>1.0</td>\n",
       "      <td>0.071451</td>\n",
       "      <td>1.0</td>\n",
       "      <td>1.0</td>\n",
       "      <td>0.366667</td>\n",
       "      <td>0.032954</td>\n",
       "      <td>0.035088</td>\n",
       "      <td>1.0</td>\n",
       "      <td>0.0</td>\n",
       "      <td>0.0</td>\n",
       "      <td>1.0</td>\n",
       "      <td>0.0</td>\n",
       "      <td>0.0</td>\n",
       "      <td>0.0</td>\n",
       "      <td>0.0</td>\n",
       "      <td>0</td>\n",
       "    </tr>\n",
       "    <tr>\n",
       "      <th>7999</th>\n",
       "      <td>0.223684</td>\n",
       "      <td>0.5</td>\n",
       "      <td>0.0</td>\n",
       "      <td>0.073257</td>\n",
       "      <td>1.0</td>\n",
       "      <td>0.0</td>\n",
       "      <td>0.166667</td>\n",
       "      <td>0.044752</td>\n",
       "      <td>0.000000</td>\n",
       "      <td>1.0</td>\n",
       "      <td>0.0</td>\n",
       "      <td>1.0</td>\n",
       "      <td>0.0</td>\n",
       "      <td>0.0</td>\n",
       "      <td>0.0</td>\n",
       "      <td>0.0</td>\n",
       "      <td>0.0</td>\n",
       "      <td>0</td>\n",
       "    </tr>\n",
       "  </tbody>\n",
       "</table>\n",
       "<p>8000 rows × 18 columns</p>\n",
       "</div>"
      ],
      "text/plain": [
       "           age  education  default   balance  housing  loan       day  \\\n",
       "0     0.315789        1.0      0.0  0.072876      0.0   0.0  0.333333   \n",
       "1     0.210526        1.0      0.0  0.078550      1.0   1.0  0.033333   \n",
       "2     0.131579        0.5      0.0  0.072803      1.0   0.0  0.700000   \n",
       "3     0.171053        0.5      0.0  0.073684      1.0   0.0  0.566667   \n",
       "4     0.236842        0.5      0.0  0.074755      1.0   0.0  0.166667   \n",
       "...        ...        ...      ...       ...      ...   ...       ...   \n",
       "7995  0.184211        1.0      0.0  0.075300      0.0   0.0  0.566667   \n",
       "7996  0.210526        0.5      0.0  0.073947      0.0   0.0  0.700000   \n",
       "7997  0.223684        1.0      0.0  0.076471      0.0   0.0  0.533333   \n",
       "7998  0.144737        0.5      1.0  0.071451      1.0   1.0  0.366667   \n",
       "7999  0.223684        0.5      0.0  0.073257      1.0   0.0  0.166667   \n",
       "\n",
       "      duration  campaign  is_cellular  is_married  is_admin  is_bluecollar  \\\n",
       "0     0.018918  0.052632          1.0         1.0       0.0            0.0   \n",
       "1     0.015053  0.035088          1.0         1.0       0.0            0.0   \n",
       "2     0.081570  0.105263          1.0         0.0       0.0            0.0   \n",
       "3     0.033157  0.017544          1.0         1.0       1.0            0.0   \n",
       "4     0.012002  0.000000          1.0         1.0       0.0            0.0   \n",
       "...        ...       ...          ...         ...       ...            ...   \n",
       "7995  0.070382  0.000000          1.0         0.0       0.0            0.0   \n",
       "7996  0.022376  0.017544          1.0         0.0       0.0            0.0   \n",
       "7997  0.012408  0.017544          1.0         1.0       0.0            0.0   \n",
       "7998  0.032954  0.035088          1.0         0.0       0.0            1.0   \n",
       "7999  0.044752  0.000000          1.0         0.0       1.0            0.0   \n",
       "\n",
       "      is_management  is_self_employed  is_services  is_unemployed  target  \n",
       "0               1.0               0.0          0.0            0.0       0  \n",
       "1               0.0               0.0          1.0            0.0       0  \n",
       "2               1.0               0.0          0.0            0.0       0  \n",
       "3               0.0               0.0          0.0            0.0       0  \n",
       "4               0.0               1.0          0.0            0.0       0  \n",
       "...             ...               ...          ...            ...     ...  \n",
       "7995            1.0               0.0          0.0            0.0       0  \n",
       "7996            0.0               0.0          1.0            0.0       0  \n",
       "7997            0.0               0.0          1.0            0.0       0  \n",
       "7998            0.0               0.0          0.0            0.0       0  \n",
       "7999            0.0               0.0          0.0            0.0       0  \n",
       "\n",
       "[8000 rows x 18 columns]"
      ]
     },
     "execution_count": 30,
     "metadata": {},
     "output_type": "execute_result"
    }
   ],
   "source": [
    "df['target'] = test_y['target']\n",
    "df"
   ]
  },
  {
   "cell_type": "code",
   "execution_count": 31,
   "id": "7d6899fe",
   "metadata": {},
   "outputs": [
    {
     "data": {
      "image/png": "[encoded data removed]",
      "text/plain": [
       "<Figure size 432x288 with 2 Axes>"
      ]
     },
     "metadata": {
      "needs_background": "light"
     },
     "output_type": "display_data"
    }
   ],
   "source": [
    "df_corr = df.corr()\n",
    "np.ones_like(df_corr, dtype=bool)\n",
    "mask = np.triu(np.ones_like(df_corr, dtype=bool))\n",
    "mask = mask[1:, :-1]\n",
    "corr = df_corr.iloc[1:, :-1].copy()\n",
    "# title\n",
    "title = 'CORRELATION MATRIX\\nTerm-Market-deposit\\n'\n",
    "plt.title(title, loc='left', fontsize=18)\n",
    "sb.heatmap(corr, mask=mask, fmt=\".2f\", cmap='Blues',\n",
    "               vmin=-1, vmax=1)\n",
    "# yticks\n",
    "plt.yticks(rotation=0)\n",
    "plt.show()\n"
   ]
  },
  {
   "cell_type": "code",
   "execution_count": 32,
   "id": "3537e2b6",
   "metadata": {},
   "outputs": [],
   "source": [
    "##We can see that the most important factor is the duration of the call. with a very large correlation between\n",
    "##that and the target variable. This is understandable as when a customer is on the phone for a longer time, they\n",
    "##are more likely to be engaged in a discussion that will bring forth a term deposit. Other factors seem to be loosley correlated with the overall results\n"
   ]
  },
  {
   "cell_type": "code",
   "execution_count": 33,
   "id": "6b0abe6d",
   "metadata": {},
   "outputs": [
    {
     "name": "stdout",
     "output_type": "stream",
     "text": [
      "0.92225\n"
     ]
    }
   ],
   "source": [
    "print(model.score(scaled_x_test_data, test_y))\n",
    "##as shown below the model performs approximately as well on data that is has not seen, scoring 92 percent accuracy."
   ]
  },
  {
   "cell_type": "code",
   "execution_count": 34,
   "id": "c1e6e04e",
   "metadata": {},
   "outputs": [
    {
     "data": {
      "text/plain": [
       "array([[7161,  213],\n",
       "       [ 409,  217]])"
      ]
     },
     "execution_count": 34,
     "metadata": {},
     "output_type": "execute_result"
    }
   ],
   "source": [
    "results = model.predict(scaled_x_test_data)\n",
    "confusion_matrix(test_y, results)\n"
   ]
  },
  {
   "cell_type": "code",
   "execution_count": null,
   "id": "8183650b",
   "metadata": {},
   "outputs": [],
   "source": []
  }
 ],
 "metadata": {
  "kernelspec": {
   "display_name": "Python 3",
   "language": "python",
   "name": "python3"
  },
  "language_info": {
   "codemirror_mode": {
    "name": "ipython",
    "version": 3
   },
   "file_extension": ".py",
   "mimetype": "text/x-python",
   "name": "python",
   "nbconvert_exporter": "python",
   "pygments_lexer": "ipython3",
   "version": "3.10.2"
  }
 },
 "nbformat": 4,
 "nbformat_minor": 5
}
